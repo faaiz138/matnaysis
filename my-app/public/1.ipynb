{
 "cells": [
  {
   "cell_type": "code",
   "execution_count": 1,
   "id": "1f03eaf0",
   "metadata": {},
   "outputs": [
    {
     "name": "stdout",
     "output_type": "stream",
     "text": [
      "Requirement already satisfied: seaborn in c:\\users\\faaiz.asif\\anaconda3\\lib\\site-packages (0.11.2)\n",
      "Requirement already satisfied: scipy>=1.0 in c:\\users\\faaiz.asif\\anaconda3\\lib\\site-packages (from seaborn) (1.7.3)\n",
      "Requirement already satisfied: pandas>=0.23 in c:\\users\\faaiz.asif\\anaconda3\\lib\\site-packages (from seaborn) (1.4.2)\n",
      "Requirement already satisfied: numpy>=1.15 in c:\\users\\faaiz.asif\\anaconda3\\lib\\site-packages (from seaborn) (1.21.5)\n",
      "Requirement already satisfied: matplotlib>=2.2 in c:\\users\\faaiz.asif\\anaconda3\\lib\\site-packages (from seaborn) (3.5.1)\n",
      "Requirement already satisfied: packaging>=20.0 in c:\\users\\faaiz.asif\\anaconda3\\lib\\site-packages (from matplotlib>=2.2->seaborn) (21.3)\n",
      "Requirement already satisfied: fonttools>=4.22.0 in c:\\users\\faaiz.asif\\anaconda3\\lib\\site-packages (from matplotlib>=2.2->seaborn) (4.25.0)\n",
      "Requirement already satisfied: pillow>=6.2.0 in c:\\users\\faaiz.asif\\anaconda3\\lib\\site-packages (from matplotlib>=2.2->seaborn) (9.0.1)\n",
      "Requirement already satisfied: kiwisolver>=1.0.1 in c:\\users\\faaiz.asif\\anaconda3\\lib\\site-packages (from matplotlib>=2.2->seaborn) (1.3.2)\n",
      "Requirement already satisfied: python-dateutil>=2.7 in c:\\users\\faaiz.asif\\anaconda3\\lib\\site-packages (from matplotlib>=2.2->seaborn) (2.8.2)\n",
      "Requirement already satisfied: pyparsing>=2.2.1 in c:\\users\\faaiz.asif\\anaconda3\\lib\\site-packages (from matplotlib>=2.2->seaborn) (3.0.4)\n",
      "Requirement already satisfied: cycler>=0.10 in c:\\users\\faaiz.asif\\anaconda3\\lib\\site-packages (from matplotlib>=2.2->seaborn) (0.11.0)\n",
      "Requirement already satisfied: pytz>=2020.1 in c:\\users\\faaiz.asif\\anaconda3\\lib\\site-packages (from pandas>=0.23->seaborn) (2021.3)\n",
      "Requirement already satisfied: six>=1.5 in c:\\users\\faaiz.asif\\anaconda3\\lib\\site-packages (from python-dateutil>=2.7->matplotlib>=2.2->seaborn) (1.16.0)\n",
      "Requirement already satisfied: matplotlib in c:\\users\\faaiz.asif\\anaconda3\\lib\\site-packages (3.5.1)\n",
      "Requirement already satisfied: cycler>=0.10 in c:\\users\\faaiz.asif\\anaconda3\\lib\\site-packages (from matplotlib) (0.11.0)\n",
      "Requirement already satisfied: kiwisolver>=1.0.1 in c:\\users\\faaiz.asif\\anaconda3\\lib\\site-packages (from matplotlib) (1.3.2)\n",
      "Requirement already satisfied: numpy>=1.17 in c:\\users\\faaiz.asif\\anaconda3\\lib\\site-packages (from matplotlib) (1.21.5)\n",
      "Requirement already satisfied: fonttools>=4.22.0 in c:\\users\\faaiz.asif\\anaconda3\\lib\\site-packages (from matplotlib) (4.25.0)\n",
      "Requirement already satisfied: pyparsing>=2.2.1 in c:\\users\\faaiz.asif\\anaconda3\\lib\\site-packages (from matplotlib) (3.0.4)\n",
      "Requirement already satisfied: python-dateutil>=2.7 in c:\\users\\faaiz.asif\\anaconda3\\lib\\site-packages (from matplotlib) (2.8.2)\n",
      "Requirement already satisfied: pillow>=6.2.0 in c:\\users\\faaiz.asif\\anaconda3\\lib\\site-packages (from matplotlib) (9.0.1)\n",
      "Requirement already satisfied: packaging>=20.0 in c:\\users\\faaiz.asif\\anaconda3\\lib\\site-packages (from matplotlib) (21.3)\n",
      "Requirement already satisfied: six>=1.5 in c:\\users\\faaiz.asif\\anaconda3\\lib\\site-packages (from python-dateutil>=2.7->matplotlib) (1.16.0)\n",
      "Requirement already satisfied: numpy in c:\\users\\faaiz.asif\\anaconda3\\lib\\site-packages (1.21.5)\n",
      "Requirement already satisfied: spicy in c:\\users\\faaiz.asif\\anaconda3\\lib\\site-packages (0.16.0)\n",
      "Requirement already satisfied: scipy in c:\\users\\faaiz.asif\\anaconda3\\lib\\site-packages (from spicy) (1.7.3)\n",
      "Requirement already satisfied: numpy<1.23.0,>=1.16.5 in c:\\users\\faaiz.asif\\anaconda3\\lib\\site-packages (from scipy->spicy) (1.21.5)\n",
      "Requirement already satisfied: sklearn in c:\\users\\faaiz.asif\\anaconda3\\lib\\site-packages (0.0)\n",
      "Requirement already satisfied: scikit-learn in c:\\users\\faaiz.asif\\anaconda3\\lib\\site-packages (from sklearn) (1.0.2)\n",
      "Requirement already satisfied: joblib>=0.11 in c:\\users\\faaiz.asif\\anaconda3\\lib\\site-packages (from scikit-learn->sklearn) (1.1.0)\n",
      "Requirement already satisfied: numpy>=1.14.6 in c:\\users\\faaiz.asif\\anaconda3\\lib\\site-packages (from scikit-learn->sklearn) (1.21.5)\n",
      "Requirement already satisfied: threadpoolctl>=2.0.0 in c:\\users\\faaiz.asif\\anaconda3\\lib\\site-packages (from scikit-learn->sklearn) (2.2.0)\n",
      "Requirement already satisfied: scipy>=1.1.0 in c:\\users\\faaiz.asif\\anaconda3\\lib\\site-packages (from scikit-learn->sklearn) (1.7.3)\n",
      "Requirement already satisfied: researchpy in c:\\users\\faaiz.asif\\anaconda3\\lib\\site-packages (0.3.2)\n",
      "Requirement already satisfied: pandas in c:\\users\\faaiz.asif\\anaconda3\\lib\\site-packages (from researchpy) (1.4.2)\n",
      "Requirement already satisfied: statsmodels in c:\\users\\faaiz.asif\\anaconda3\\lib\\site-packages (from researchpy) (0.13.2)\n",
      "Requirement already satisfied: scipy in c:\\users\\faaiz.asif\\anaconda3\\lib\\site-packages (from researchpy) (1.7.3)\n",
      "Requirement already satisfied: numpy in c:\\users\\faaiz.asif\\anaconda3\\lib\\site-packages (from researchpy) (1.21.5)\n",
      "Requirement already satisfied: patsy in c:\\users\\faaiz.asif\\anaconda3\\lib\\site-packages (from researchpy) (0.5.2)\n",
      "Requirement already satisfied: python-dateutil>=2.8.1 in c:\\users\\faaiz.asif\\anaconda3\\lib\\site-packages (from pandas->researchpy) (2.8.2)\n",
      "Requirement already satisfied: pytz>=2020.1 in c:\\users\\faaiz.asif\\anaconda3\\lib\\site-packages (from pandas->researchpy) (2021.3)\n",
      "Requirement already satisfied: six>=1.5 in c:\\users\\faaiz.asif\\anaconda3\\lib\\site-packages (from python-dateutil>=2.8.1->pandas->researchpy) (1.16.0)\n",
      "Requirement already satisfied: packaging>=21.3 in c:\\users\\faaiz.asif\\anaconda3\\lib\\site-packages (from statsmodels->researchpy) (21.3)\n",
      "Requirement already satisfied: pyparsing!=3.0.5,>=2.0.2 in c:\\users\\faaiz.asif\\anaconda3\\lib\\site-packages (from packaging>=21.3->statsmodels->researchpy) (3.0.4)\n"
     ]
    }
   ],
   "source": [
    "#Library installation\n",
    "!pip install seaborn\n",
    "!pip install matplotlib\n",
    "!pip install numpy\n",
    "!pip install spicy\n",
    "!pip install sklearn\n",
    "!pip install researchpy"
   ]
  },
  {
   "cell_type": "code",
   "execution_count": 2,
   "id": "a5f8cf10",
   "metadata": {},
   "outputs": [
    {
     "name": "stdout",
     "output_type": "stream",
     "text": [
      "Requirement already satisfied: requests in c:\\users\\faaiz.asif\\anaconda3\\lib\\site-packages (2.27.1)\n",
      "Requirement already satisfied: urllib3<1.27,>=1.21.1 in c:\\users\\faaiz.asif\\anaconda3\\lib\\site-packages (from requests) (1.26.9)\n",
      "Requirement already satisfied: certifi>=2017.4.17 in c:\\users\\faaiz.asif\\anaconda3\\lib\\site-packages (from requests) (2021.10.8)\n",
      "Requirement already satisfied: charset-normalizer~=2.0.0 in c:\\users\\faaiz.asif\\anaconda3\\lib\\site-packages (from requests) (2.0.4)\n",
      "Requirement already satisfied: idna<4,>=2.5 in c:\\users\\faaiz.asif\\anaconda3\\lib\\site-packages (from requests) (3.3)\n"
     ]
    }
   ],
   "source": [
    "!pip install requests"
   ]
  },
  {
   "cell_type": "code",
   "execution_count": 3,
   "id": "a575fbc8",
   "metadata": {},
   "outputs": [
    {
     "name": "stdout",
     "output_type": "stream",
     "text": [
      "Requirement already satisfied: pymysql in c:\\users\\faaiz.asif\\anaconda3\\lib\\site-packages (1.0.2)\n",
      "Requirement already satisfied: ipython-sql in c:\\users\\faaiz.asif\\anaconda3\\lib\\site-packages (0.4.1)\n",
      "Requirement already satisfied: six in c:\\users\\faaiz.asif\\anaconda3\\lib\\site-packages (from ipython-sql) (1.16.0)\n",
      "Requirement already satisfied: sqlparse in c:\\users\\faaiz.asif\\anaconda3\\lib\\site-packages (from ipython-sql) (0.4.2)\n",
      "Requirement already satisfied: prettytable<1 in c:\\users\\faaiz.asif\\anaconda3\\lib\\site-packages (from ipython-sql) (0.7.2)\n",
      "Requirement already satisfied: sqlalchemy>=0.6.7 in c:\\users\\faaiz.asif\\anaconda3\\lib\\site-packages (from ipython-sql) (1.4.32)\n",
      "Requirement already satisfied: ipython>=1.0 in c:\\users\\faaiz.asif\\anaconda3\\lib\\site-packages (from ipython-sql) (8.2.0)\n",
      "Requirement already satisfied: ipython-genutils>=0.1.0 in c:\\users\\faaiz.asif\\anaconda3\\lib\\site-packages (from ipython-sql) (0.2.0)\n",
      "Requirement already satisfied: decorator in c:\\users\\faaiz.asif\\anaconda3\\lib\\site-packages (from ipython>=1.0->ipython-sql) (5.1.1)\n",
      "Requirement already satisfied: backcall in c:\\users\\faaiz.asif\\anaconda3\\lib\\site-packages (from ipython>=1.0->ipython-sql) (0.2.0)\n",
      "Requirement already satisfied: stack-data in c:\\users\\faaiz.asif\\anaconda3\\lib\\site-packages (from ipython>=1.0->ipython-sql) (0.2.0)\n",
      "Requirement already satisfied: traitlets>=5 in c:\\users\\faaiz.asif\\anaconda3\\lib\\site-packages (from ipython>=1.0->ipython-sql) (5.1.1)\n",
      "Requirement already satisfied: matplotlib-inline in c:\\users\\faaiz.asif\\anaconda3\\lib\\site-packages (from ipython>=1.0->ipython-sql) (0.1.2)\n",
      "Requirement already satisfied: jedi>=0.16 in c:\\users\\faaiz.asif\\anaconda3\\lib\\site-packages (from ipython>=1.0->ipython-sql) (0.18.1)\n",
      "Requirement already satisfied: pygments>=2.4.0 in c:\\users\\faaiz.asif\\anaconda3\\lib\\site-packages (from ipython>=1.0->ipython-sql) (2.11.2)\n",
      "Requirement already satisfied: setuptools>=18.5 in c:\\users\\faaiz.asif\\anaconda3\\lib\\site-packages (from ipython>=1.0->ipython-sql) (61.2.0)\n",
      "Requirement already satisfied: prompt-toolkit!=3.0.0,!=3.0.1,<3.1.0,>=2.0.0 in c:\\users\\faaiz.asif\\anaconda3\\lib\\site-packages (from ipython>=1.0->ipython-sql) (3.0.20)\n",
      "Requirement already satisfied: colorama in c:\\users\\faaiz.asif\\anaconda3\\lib\\site-packages (from ipython>=1.0->ipython-sql) (0.4.4)\n",
      "Requirement already satisfied: pickleshare in c:\\users\\faaiz.asif\\anaconda3\\lib\\site-packages (from ipython>=1.0->ipython-sql) (0.7.5)\n",
      "Requirement already satisfied: parso<0.9.0,>=0.8.0 in c:\\users\\faaiz.asif\\anaconda3\\lib\\site-packages (from jedi>=0.16->ipython>=1.0->ipython-sql) (0.8.3)\n",
      "Requirement already satisfied: wcwidth in c:\\users\\faaiz.asif\\anaconda3\\lib\\site-packages (from prompt-toolkit!=3.0.0,!=3.0.1,<3.1.0,>=2.0.0->ipython>=1.0->ipython-sql) (0.2.5)\n",
      "Requirement already satisfied: greenlet!=0.4.17 in c:\\users\\faaiz.asif\\anaconda3\\lib\\site-packages (from sqlalchemy>=0.6.7->ipython-sql) (1.1.1)\n",
      "Requirement already satisfied: pure-eval in c:\\users\\faaiz.asif\\anaconda3\\lib\\site-packages (from stack-data->ipython>=1.0->ipython-sql) (0.2.2)\n",
      "Requirement already satisfied: asttokens in c:\\users\\faaiz.asif\\anaconda3\\lib\\site-packages (from stack-data->ipython>=1.0->ipython-sql) (2.0.5)\n",
      "Requirement already satisfied: executing in c:\\users\\faaiz.asif\\anaconda3\\lib\\site-packages (from stack-data->ipython>=1.0->ipython-sql) (0.8.3)\n",
      "Requirement already satisfied: mysqlclient in c:\\users\\faaiz.asif\\anaconda3\\lib\\site-packages (2.1.1)\n"
     ]
    }
   ],
   "source": [
    "#Database Libraries\n",
    "!pip3 install pymysql\n",
    "!pip3 install ipython-sql\n",
    "!pip3 install mysqlclient"
   ]
  },
  {
   "cell_type": "code",
   "execution_count": 4,
   "id": "098cda75",
   "metadata": {},
   "outputs": [],
   "source": [
    "#Libraries used throughout\n",
    "import pandas as pd\n",
    "import matplotlib.pyplot as plt\n",
    "import numpy as np\n",
    "import seaborn as sns\n",
    "from sklearn.preprocessing import MinMaxScaler\n",
    "from sklearn.preprocessing import MaxAbsScaler\n",
    "import pymysql"
   ]
  },
  {
   "cell_type": "code",
   "execution_count": 5,
   "id": "ac074c00",
   "metadata": {},
   "outputs": [
    {
     "name": "stdout",
     "output_type": "stream",
     "text": [
      "        id       Dates  KSE_Price  Oil_Price  Gold_Price  Interest_Rate\n",
      "0        1  2022-06-17      0.581      0.264       0.972          0.993\n",
      "1        2  2022-06-15      0.554      0.223       0.982          1.000\n",
      "2        3  2022-06-14      0.539      0.217       0.959          0.999\n",
      "3        4  2022-06-13      0.532      0.209       0.956          0.998\n",
      "4        5  2022-06-06      0.559      0.201       0.942          0.993\n",
      "...    ...         ...        ...        ...         ...            ...\n",
      "1484  1485  2016-01-08      0.207      0.488       0.217          0.048\n",
      "1485  1486  2016-01-07      0.213      0.495       0.216          0.050\n",
      "1486  1487  2016-01-06      0.224      0.508       0.174          0.050\n",
      "1487  1488  2016-01-04      0.225      0.522       0.173          0.052\n",
      "1488  1489  2016-01-01      0.234      0.520       0.122          0.052\n",
      "\n",
      "[1489 rows x 6 columns]\n"
     ]
    },
    {
     "name": "stderr",
     "output_type": "stream",
     "text": [
      "C:\\Users\\faaiz.asif\\Anaconda3\\lib\\site-packages\\pandas\\io\\sql.py:761: UserWarning: pandas only support SQLAlchemy connectable(engine/connection) ordatabase string URI or sqlite3 DBAPI2 connectionother DBAPI2 objects are not tested, please consider using SQLAlchemy\n",
      "  warnings.warn(\n"
     ]
    }
   ],
   "source": [
    "#Database Connection\n",
    "conn=pymysql.connect(host='10.121.44.79' ,port=int(3306),user='root',passwd='abcd@1234',db='helnis')\n",
    "dataframe=pd.read_sql_query(\"SELECT * FROM prices \",conn)\n",
    "print(dataframe)"
   ]
  },
  {
   "cell_type": "code",
   "execution_count": 6,
   "id": "72de9b1f",
   "metadata": {},
   "outputs": [
    {
     "data": {
      "text/html": [
       "<div>\n",
       "<style scoped>\n",
       "    .dataframe tbody tr th:only-of-type {\n",
       "        vertical-align: middle;\n",
       "    }\n",
       "\n",
       "    .dataframe tbody tr th {\n",
       "        vertical-align: top;\n",
       "    }\n",
       "\n",
       "    .dataframe thead th {\n",
       "        text-align: right;\n",
       "    }\n",
       "</style>\n",
       "<table border=\"1\" class=\"dataframe\">\n",
       "  <thead>\n",
       "    <tr style=\"text-align: right;\">\n",
       "      <th></th>\n",
       "      <th>Date</th>\n",
       "    </tr>\n",
       "  </thead>\n",
       "  <tbody>\n",
       "    <tr>\n",
       "      <th>0</th>\n",
       "      <td>2022-06-17</td>\n",
       "    </tr>\n",
       "    <tr>\n",
       "      <th>1</th>\n",
       "      <td>2022-06-15</td>\n",
       "    </tr>\n",
       "    <tr>\n",
       "      <th>2</th>\n",
       "      <td>2022-06-14</td>\n",
       "    </tr>\n",
       "    <tr>\n",
       "      <th>3</th>\n",
       "      <td>2022-06-13</td>\n",
       "    </tr>\n",
       "    <tr>\n",
       "      <th>4</th>\n",
       "      <td>2022-06-06</td>\n",
       "    </tr>\n",
       "  </tbody>\n",
       "</table>\n",
       "</div>"
      ],
      "text/plain": [
       "         Date\n",
       "0  2022-06-17\n",
       "1  2022-06-15\n",
       "2  2022-06-14\n",
       "3  2022-06-13\n",
       "4  2022-06-06"
      ]
     },
     "execution_count": 6,
     "metadata": {},
     "output_type": "execute_result"
    }
   ],
   "source": [
    "df1=pd.DataFrame()\n",
    "df1['Date']=dataframe['Dates']\n",
    "df1.head()"
   ]
  },
  {
   "cell_type": "code",
   "execution_count": 7,
   "id": "0a7e7fdc",
   "metadata": {},
   "outputs": [
    {
     "data": {
      "text/html": [
       "<div>\n",
       "<style scoped>\n",
       "    .dataframe tbody tr th:only-of-type {\n",
       "        vertical-align: middle;\n",
       "    }\n",
       "\n",
       "    .dataframe tbody tr th {\n",
       "        vertical-align: top;\n",
       "    }\n",
       "\n",
       "    .dataframe thead th {\n",
       "        text-align: right;\n",
       "    }\n",
       "</style>\n",
       "<table border=\"1\" class=\"dataframe\">\n",
       "  <thead>\n",
       "    <tr style=\"text-align: right;\">\n",
       "      <th></th>\n",
       "      <th>KSE_Price</th>\n",
       "      <th>Oil_Price</th>\n",
       "      <th>Gold_Price</th>\n",
       "      <th>Interest_Rate</th>\n",
       "    </tr>\n",
       "  </thead>\n",
       "  <tbody>\n",
       "    <tr>\n",
       "      <th>0</th>\n",
       "      <td>0.581</td>\n",
       "      <td>0.264</td>\n",
       "      <td>0.972</td>\n",
       "      <td>0.993</td>\n",
       "    </tr>\n",
       "    <tr>\n",
       "      <th>1</th>\n",
       "      <td>0.554</td>\n",
       "      <td>0.223</td>\n",
       "      <td>0.982</td>\n",
       "      <td>1.000</td>\n",
       "    </tr>\n",
       "    <tr>\n",
       "      <th>2</th>\n",
       "      <td>0.539</td>\n",
       "      <td>0.217</td>\n",
       "      <td>0.959</td>\n",
       "      <td>0.999</td>\n",
       "    </tr>\n",
       "    <tr>\n",
       "      <th>3</th>\n",
       "      <td>0.532</td>\n",
       "      <td>0.209</td>\n",
       "      <td>0.956</td>\n",
       "      <td>0.998</td>\n",
       "    </tr>\n",
       "    <tr>\n",
       "      <th>4</th>\n",
       "      <td>0.559</td>\n",
       "      <td>0.201</td>\n",
       "      <td>0.942</td>\n",
       "      <td>0.993</td>\n",
       "    </tr>\n",
       "  </tbody>\n",
       "</table>\n",
       "</div>"
      ],
      "text/plain": [
       "   KSE_Price  Oil_Price  Gold_Price  Interest_Rate\n",
       "0      0.581      0.264       0.972          0.993\n",
       "1      0.554      0.223       0.982          1.000\n",
       "2      0.539      0.217       0.959          0.999\n",
       "3      0.532      0.209       0.956          0.998\n",
       "4      0.559      0.201       0.942          0.993"
      ]
     },
     "execution_count": 7,
     "metadata": {},
     "output_type": "execute_result"
    }
   ],
   "source": [
    "dataframe.drop('id', inplace=True, axis=1)\n",
    "dataframe.drop('Dates', inplace=True, axis=1)\n",
    "dataframe.head()"
   ]
  },
  {
   "cell_type": "code",
   "execution_count": 8,
   "id": "105f121c",
   "metadata": {},
   "outputs": [],
   "source": [
    "#Building of correlation matrix\n",
    "corrMatrix=dataframe.corr()"
   ]
  },
  {
   "cell_type": "code",
   "execution_count": 9,
   "id": "57c68d26",
   "metadata": {},
   "outputs": [
    {
     "name": "stdout",
     "output_type": "stream",
     "text": [
      "               KSE_Price  Oil_Price  Gold_Price  Interest_Rate\n",
      "KSE_Price       1.000000   0.516450    0.085548      -0.370431\n",
      "Oil_Price       0.516450   1.000000   -0.723274      -0.717493\n",
      "Gold_Price      0.085548  -0.723274    1.000000       0.440946\n",
      "Interest_Rate  -0.370431  -0.717493    0.440946       1.000000\n"
     ]
    }
   ],
   "source": [
    "#Printing of matrix\n",
    "print(corrMatrix)"
   ]
  },
  {
   "cell_type": "code",
   "execution_count": 10,
   "id": "637f5af1",
   "metadata": {},
   "outputs": [
    {
     "data": {
      "text/html": [
       "<div>\n",
       "<style scoped>\n",
       "    .dataframe tbody tr th:only-of-type {\n",
       "        vertical-align: middle;\n",
       "    }\n",
       "\n",
       "    .dataframe tbody tr th {\n",
       "        vertical-align: top;\n",
       "    }\n",
       "\n",
       "    .dataframe thead th {\n",
       "        text-align: right;\n",
       "    }\n",
       "</style>\n",
       "<table border=\"1\" class=\"dataframe\">\n",
       "  <thead>\n",
       "    <tr style=\"text-align: right;\">\n",
       "      <th></th>\n",
       "      <th>Date</th>\n",
       "      <th>KSE_Price</th>\n",
       "      <th>Oil_Price</th>\n",
       "      <th>Gold_Price</th>\n",
       "      <th>Interest_Rate</th>\n",
       "    </tr>\n",
       "  </thead>\n",
       "  <tbody>\n",
       "    <tr>\n",
       "      <th>0</th>\n",
       "      <td>2022-06-17</td>\n",
       "      <td>0.581</td>\n",
       "      <td>0.264</td>\n",
       "      <td>0.972</td>\n",
       "      <td>0.993</td>\n",
       "    </tr>\n",
       "    <tr>\n",
       "      <th>1</th>\n",
       "      <td>2022-06-15</td>\n",
       "      <td>0.554</td>\n",
       "      <td>0.223</td>\n",
       "      <td>0.982</td>\n",
       "      <td>1.000</td>\n",
       "    </tr>\n",
       "    <tr>\n",
       "      <th>2</th>\n",
       "      <td>2022-06-14</td>\n",
       "      <td>0.539</td>\n",
       "      <td>0.217</td>\n",
       "      <td>0.959</td>\n",
       "      <td>0.999</td>\n",
       "    </tr>\n",
       "    <tr>\n",
       "      <th>3</th>\n",
       "      <td>2022-06-13</td>\n",
       "      <td>0.532</td>\n",
       "      <td>0.209</td>\n",
       "      <td>0.956</td>\n",
       "      <td>0.998</td>\n",
       "    </tr>\n",
       "    <tr>\n",
       "      <th>4</th>\n",
       "      <td>2022-06-06</td>\n",
       "      <td>0.559</td>\n",
       "      <td>0.201</td>\n",
       "      <td>0.942</td>\n",
       "      <td>0.993</td>\n",
       "    </tr>\n",
       "  </tbody>\n",
       "</table>\n",
       "</div>"
      ],
      "text/plain": [
       "         Date  KSE_Price  Oil_Price  Gold_Price  Interest_Rate\n",
       "0  2022-06-17      0.581      0.264       0.972          0.993\n",
       "1  2022-06-15      0.554      0.223       0.982          1.000\n",
       "2  2022-06-14      0.539      0.217       0.959          0.999\n",
       "3  2022-06-13      0.532      0.209       0.956          0.998\n",
       "4  2022-06-06      0.559      0.201       0.942          0.993"
      ]
     },
     "execution_count": 10,
     "metadata": {},
     "output_type": "execute_result"
    }
   ],
   "source": [
    "frames=[df1,dataframe]\n",
    "df2=pd.concat(frames,axis=1)\n",
    "df2.head()"
   ]
  },
  {
   "cell_type": "code",
   "execution_count": 11,
   "id": "37e0a719",
   "metadata": {},
   "outputs": [
    {
     "data": {
      "text/html": [
       "<div>\n",
       "<style scoped>\n",
       "    .dataframe tbody tr th:only-of-type {\n",
       "        vertical-align: middle;\n",
       "    }\n",
       "\n",
       "    .dataframe tbody tr th {\n",
       "        vertical-align: top;\n",
       "    }\n",
       "\n",
       "    .dataframe thead th {\n",
       "        text-align: right;\n",
       "    }\n",
       "</style>\n",
       "<table border=\"1\" class=\"dataframe\">\n",
       "  <thead>\n",
       "    <tr style=\"text-align: right;\">\n",
       "      <th></th>\n",
       "      <th>Date</th>\n",
       "      <th>KSEPrice</th>\n",
       "      <th>OilPrice</th>\n",
       "      <th>GoldPrice</th>\n",
       "      <th>InterestRate</th>\n",
       "    </tr>\n",
       "  </thead>\n",
       "  <tbody>\n",
       "    <tr>\n",
       "      <th>0</th>\n",
       "      <td>2016</td>\n",
       "      <td>0.410188</td>\n",
       "      <td>0.671430</td>\n",
       "      <td>0.183444</td>\n",
       "      <td>0.021803</td>\n",
       "    </tr>\n",
       "    <tr>\n",
       "      <th>1</th>\n",
       "      <td>2017</td>\n",
       "      <td>0.714958</td>\n",
       "      <td>0.806434</td>\n",
       "      <td>0.190802</td>\n",
       "      <td>0.016080</td>\n",
       "    </tr>\n",
       "    <tr>\n",
       "      <th>2</th>\n",
       "      <td>2018</td>\n",
       "      <td>0.581289</td>\n",
       "      <td>0.661872</td>\n",
       "      <td>0.260434</td>\n",
       "      <td>0.179540</td>\n",
       "    </tr>\n",
       "    <tr>\n",
       "      <th>3</th>\n",
       "      <td>2019</td>\n",
       "      <td>0.344574</td>\n",
       "      <td>0.314434</td>\n",
       "      <td>0.437561</td>\n",
       "      <td>0.722053</td>\n",
       "    </tr>\n",
       "    <tr>\n",
       "      <th>4</th>\n",
       "      <td>2020</td>\n",
       "      <td>0.431850</td>\n",
       "      <td>0.297707</td>\n",
       "      <td>0.686699</td>\n",
       "      <td>0.344122</td>\n",
       "    </tr>\n",
       "    <tr>\n",
       "      <th>5</th>\n",
       "      <td>2021</td>\n",
       "      <td>0.730320</td>\n",
       "      <td>0.457402</td>\n",
       "      <td>0.705328</td>\n",
       "      <td>0.220254</td>\n",
       "    </tr>\n",
       "    <tr>\n",
       "      <th>6</th>\n",
       "      <td>2022</td>\n",
       "      <td>0.667518</td>\n",
       "      <td>0.257353</td>\n",
       "      <td>0.874388</td>\n",
       "      <td>0.693612</td>\n",
       "    </tr>\n",
       "  </tbody>\n",
       "</table>\n",
       "</div>"
      ],
      "text/plain": [
       "   Date  KSEPrice  OilPrice  GoldPrice  InterestRate\n",
       "0  2016  0.410188  0.671430   0.183444      0.021803\n",
       "1  2017  0.714958  0.806434   0.190802      0.016080\n",
       "2  2018  0.581289  0.661872   0.260434      0.179540\n",
       "3  2019  0.344574  0.314434   0.437561      0.722053\n",
       "4  2020  0.431850  0.297707   0.686699      0.344122\n",
       "5  2021  0.730320  0.457402   0.705328      0.220254\n",
       "6  2022  0.667518  0.257353   0.874388      0.693612"
      ]
     },
     "execution_count": 11,
     "metadata": {},
     "output_type": "execute_result"
    }
   ],
   "source": [
    "df2['Date']= pd.to_datetime(df2['Date']) \n",
    "result=pd.DataFrame()\n",
    "result['KSEPrice'] = df2.groupby([df2['Date'].dt.year]).agg({'KSE_Price': ['mean']})\n",
    "result['OilPrice'] = df2.groupby([df2['Date'].dt.year]).agg({'Oil_Price': ['mean']})\n",
    "result['GoldPrice'] = df2.groupby([df2['Date'].dt.year]).agg({'Gold_Price': ['mean']})\n",
    "result['InterestRate'] = df2.groupby([df2['Date'].dt.year]).agg({'Interest_Rate': ['mean']})\n",
    "result.reset_index(inplace=True)\n",
    "# result=result.rename(columns={'index':'Date'})\n",
    "result.head(20)"
   ]
  },
  {
   "cell_type": "code",
   "execution_count": 42,
   "id": "63ac7e43",
   "metadata": {},
   "outputs": [
    {
     "data": {
      "text/html": [
       "<div>\n",
       "<style scoped>\n",
       "    .dataframe tbody tr th:only-of-type {\n",
       "        vertical-align: middle;\n",
       "    }\n",
       "\n",
       "    .dataframe tbody tr th {\n",
       "        vertical-align: top;\n",
       "    }\n",
       "\n",
       "    .dataframe thead th {\n",
       "        text-align: right;\n",
       "    }\n",
       "</style>\n",
       "<table border=\"1\" class=\"dataframe\">\n",
       "  <thead>\n",
       "    <tr style=\"text-align: right;\">\n",
       "      <th></th>\n",
       "      <th>Date</th>\n",
       "      <th>KSEPrice</th>\n",
       "      <th>OilPrice</th>\n",
       "      <th>GoldPrice</th>\n",
       "      <th>InterestRate</th>\n",
       "    </tr>\n",
       "  </thead>\n",
       "  <tbody>\n",
       "    <tr>\n",
       "      <th>0</th>\n",
       "      <td>2016</td>\n",
       "      <td>0.410</td>\n",
       "      <td>0.671</td>\n",
       "      <td>0.183</td>\n",
       "      <td>0.022</td>\n",
       "    </tr>\n",
       "    <tr>\n",
       "      <th>1</th>\n",
       "      <td>2017</td>\n",
       "      <td>0.715</td>\n",
       "      <td>0.806</td>\n",
       "      <td>0.191</td>\n",
       "      <td>0.016</td>\n",
       "    </tr>\n",
       "    <tr>\n",
       "      <th>2</th>\n",
       "      <td>2018</td>\n",
       "      <td>0.581</td>\n",
       "      <td>0.662</td>\n",
       "      <td>0.260</td>\n",
       "      <td>0.180</td>\n",
       "    </tr>\n",
       "    <tr>\n",
       "      <th>3</th>\n",
       "      <td>2019</td>\n",
       "      <td>0.345</td>\n",
       "      <td>0.314</td>\n",
       "      <td>0.438</td>\n",
       "      <td>0.722</td>\n",
       "    </tr>\n",
       "    <tr>\n",
       "      <th>4</th>\n",
       "      <td>2020</td>\n",
       "      <td>0.432</td>\n",
       "      <td>0.298</td>\n",
       "      <td>0.687</td>\n",
       "      <td>0.344</td>\n",
       "    </tr>\n",
       "  </tbody>\n",
       "</table>\n",
       "</div>"
      ],
      "text/plain": [
       "   Date  KSEPrice  OilPrice  GoldPrice  InterestRate\n",
       "0  2016     0.410     0.671      0.183         0.022\n",
       "1  2017     0.715     0.806      0.191         0.016\n",
       "2  2018     0.581     0.662      0.260         0.180\n",
       "3  2019     0.345     0.314      0.438         0.722\n",
       "4  2020     0.432     0.298      0.687         0.344"
      ]
     },
     "execution_count": 42,
     "metadata": {},
     "output_type": "execute_result"
    }
   ],
   "source": [
    "result.KSEPrice = result.KSEPrice.round(3)\n",
    "result.OilPrice = result.OilPrice.round(3)\n",
    "result.GoldPrice = result.GoldPrice.round(3)\n",
    "result.InterestRate = result.InterestRate.round(3)\n",
    "result.head()"
   ]
  },
  {
   "cell_type": "code",
   "execution_count": 43,
   "id": "6cefb911",
   "metadata": {},
   "outputs": [],
   "source": [
    "#Building of API using flask\n",
    "from flask import Flask,jsonify\n",
    "import json\n",
    "from werkzeug.wrappers import Request, Response\n",
    "import os"
   ]
  },
  {
   "cell_type": "code",
   "execution_count": 44,
   "id": "dc8607d3",
   "metadata": {},
   "outputs": [],
   "source": [
    "app=Flask(__name__)  "
   ]
  },
  {
   "cell_type": "code",
   "execution_count": 45,
   "id": "10cf81b7",
   "metadata": {},
   "outputs": [
    {
     "name": "stdout",
     "output_type": "stream",
     "text": [
      "[{'Date': 2016, 'KSEPrice': 0.41, 'OilPrice': 0.671, 'GoldPrice': 0.183, 'InterestRate': 0.022}, {'Date': 2017, 'KSEPrice': 0.715, 'OilPrice': 0.806, 'GoldPrice': 0.191, 'InterestRate': 0.016}, {'Date': 2018, 'KSEPrice': 0.581, 'OilPrice': 0.662, 'GoldPrice': 0.26, 'InterestRate': 0.18}, {'Date': 2019, 'KSEPrice': 0.345, 'OilPrice': 0.314, 'GoldPrice': 0.438, 'InterestRate': 0.722}, {'Date': 2020, 'KSEPrice': 0.432, 'OilPrice': 0.298, 'GoldPrice': 0.687, 'InterestRate': 0.344}, {'Date': 2021, 'KSEPrice': 0.73, 'OilPrice': 0.457, 'GoldPrice': 0.705, 'InterestRate': 0.22}, {'Date': 2022, 'KSEPrice': 0.668, 'OilPrice': 0.257, 'GoldPrice': 0.874, 'InterestRate': 0.694}]\n"
     ]
    }
   ],
   "source": [
    "#Converting dataframe to dictionary\n",
    "# result.set_index(\"Date\", drop=True, inplace=True)\n",
    "dictionary = result.to_dict('records')\n",
    "print(dictionary)"
   ]
  },
  {
   "cell_type": "code",
   "execution_count": 46,
   "id": "349b934c",
   "metadata": {},
   "outputs": [],
   "source": [
    "import json \n",
    "with open(\"all_prices.json\", \"w\") as outfile:\n",
    "    json.dump(dictionary, outfile)"
   ]
  },
  {
   "cell_type": "code",
   "execution_count": 47,
   "id": "a6f2addf",
   "metadata": {},
   "outputs": [
    {
     "name": "stdout",
     "output_type": "stream",
     "text": [
      "{('KSE_Price', 'KSE_Price'): 1.0, ('KSE_Price', 'Oil_Price'): 0.516450424146182, ('KSE_Price', 'Gold_Price'): 0.08554759619795106, ('KSE_Price', 'Interest_Rate'): -0.3704313076545383, ('Oil_Price', 'KSE_Price'): 0.516450424146182, ('Oil_Price', 'Oil_Price'): 1.0, ('Oil_Price', 'Gold_Price'): -0.723273689740656, ('Oil_Price', 'Interest_Rate'): -0.717492937121084, ('Gold_Price', 'KSE_Price'): 0.08554759619795106, ('Gold_Price', 'Oil_Price'): -0.723273689740656, ('Gold_Price', 'Gold_Price'): 1.0, ('Gold_Price', 'Interest_Rate'): 0.4409460278392986, ('Interest_Rate', 'KSE_Price'): -0.3704313076545383, ('Interest_Rate', 'Oil_Price'): -0.717492937121084, ('Interest_Rate', 'Gold_Price'): 0.4409460278392986, ('Interest_Rate', 'Interest_Rate'): 1.0}\n"
     ]
    }
   ],
   "source": [
    "matrix=corrMatrix.unstack().to_dict()\n",
    "result1=str(matrix)\n",
    "print(result1)"
   ]
  },
  {
   "cell_type": "code",
   "execution_count": 48,
   "id": "f6db6f5a",
   "metadata": {},
   "outputs": [
    {
     "name": "stdout",
     "output_type": "stream",
     "text": [
      "          Factor1        Factor2  Relation_Value  index1\n",
      "0       KSE_Price      KSE_Price        1.000000       0\n",
      "1       KSE_Price      Oil_Price        0.516450       1\n",
      "2       KSE_Price     Gold_Price        0.085548       2\n",
      "3       KSE_Price  Interest_Rate       -0.370431       3\n",
      "4       Oil_Price      KSE_Price        0.516450       4\n",
      "5       Oil_Price      Oil_Price        1.000000       5\n",
      "6       Oil_Price     Gold_Price       -0.723274       6\n",
      "7       Oil_Price  Interest_Rate       -0.717493       7\n",
      "8      Gold_Price      KSE_Price        0.085548       8\n",
      "9      Gold_Price      Oil_Price       -0.723274       9\n",
      "10     Gold_Price     Gold_Price        1.000000      10\n",
      "11     Gold_Price  Interest_Rate        0.440946      11\n",
      "12  Interest_Rate      KSE_Price       -0.370431      12\n",
      "13  Interest_Rate      Oil_Price       -0.717493      13\n",
      "14  Interest_Rate     Gold_Price        0.440946      14\n",
      "15  Interest_Rate  Interest_Rate        1.000000      15\n"
     ]
    }
   ],
   "source": [
    "list1=[]\n",
    "list1=dataframe.corr().stack().rename_axis(('Factor1', 'Factor2')).reset_index(name='Relation_Value')\n",
    "list1['index1']=list1.index\n",
    "print(list1)\n",
    "# print(list1['Relation_Value'][0])"
   ]
  },
  {
   "cell_type": "code",
   "execution_count": 49,
   "id": "1a15b085",
   "metadata": {},
   "outputs": [],
   "source": [
    "json_df=pd.DataFrame()\n",
    "json_df=list1\n",
    "json_df.drop(labels='index1', inplace=True, axis=1)\n",
    "json_df.Relation_Value = json_df.Relation_Value.round(3)\n",
    "# json_df['Relation_Value'].round(3)\n",
    "json_df.head()\n",
    "json_df.to_json('relation_file.json', orient = 'split', compression = 'infer', index = 'true')"
   ]
  },
  {
   "cell_type": "code",
   "execution_count": 50,
   "id": "404e1ab6",
   "metadata": {},
   "outputs": [],
   "source": [
    "@app.route('/')\n",
    "def index():\n",
    "    return \"Calling the API\""
   ]
  },
  {
   "cell_type": "code",
   "execution_count": 20,
   "id": "2c182b22",
   "metadata": {},
   "outputs": [],
   "source": [
    "@app.route('/prices', methods=['GET'])\n",
    "def get_prices():\n",
    "    return jsonify(dictionary)"
   ]
  },
  {
   "cell_type": "code",
   "execution_count": 21,
   "id": "527fe56f",
   "metadata": {},
   "outputs": [],
   "source": [
    "@app.route('/matrix', methods=['GET'])\n",
    "def get_relation():\n",
    "    return jsonify({'Correlation':result1})"
   ]
  },
  {
   "cell_type": "code",
   "execution_count": 22,
   "id": "63739cad",
   "metadata": {},
   "outputs": [],
   "source": [
    "@app.route('/matrix/<int:id>', methods=['GET'])\n",
    "def get_singlerelation(id):\n",
    "    relation_val=list1['Relation_Value'][id]\n",
    "    return jsonify({'Correlation':relation_val})"
   ]
  },
  {
   "cell_type": "code",
   "execution_count": 23,
   "id": "36d83b4c",
   "metadata": {},
   "outputs": [],
   "source": [
    "@app.route(\"/prices/<int:id>\", methods=['GET'])\n",
    "def get_yearprice(id):\n",
    "  return jsonify(dictionary[id])"
   ]
  },
  {
   "cell_type": "code",
   "execution_count": 24,
   "id": "51073d27",
   "metadata": {},
   "outputs": [
    {
     "name": "stderr",
     "output_type": "stream",
     "text": [
      " * Running on http://localhost:9000/ (Press CTRL+C to quit)\n",
      "127.0.0.1 - - [19/Jul/2022 14:52:18] \"GET /prices HTTP/1.1\" 200 -\n"
     ]
    }
   ],
   "source": [
    "if __name__==\"__main__\":\n",
    "    from werkzeug.serving import run_simple\n",
    "    run_simple('localhost', 9000, app)"
   ]
  },
  {
   "cell_type": "code",
   "execution_count": 25,
   "id": "8b12217c",
   "metadata": {},
   "outputs": [
    {
     "data": {
      "image/png": "[encoded data removed]",
      "text/plain": [
       "<Figure size 432x288 with 2 Axes>"
      ]
     },
     "metadata": {
      "needs_background": "light"
     },
     "output_type": "display_data"
    }
   ],
   "source": [
    "#Visualization of Correlation Matrix\n",
    "sns.heatmap(corrMatrix,annot=True)\n",
    "plt.show()"
   ]
  },
  {
   "cell_type": "code",
   "execution_count": 26,
   "id": "ac658572",
   "metadata": {},
   "outputs": [
    {
     "name": "stderr",
     "output_type": "stream",
     "text": [
      "\n",
      "KeyboardInterrupt\n",
      "\n"
     ]
    }
   ],
   "source": [
    "#Line plot of yearly\n",
    "import matplotlib.pyplot as mp\n",
    "result.plot(x=\"Date\", y=[ \"Interest Rate\", \"Oil Price\"],\n",
    "        kind=\"line\", figsize=(10, 10))\n",
    "mp.show()"
   ]
  },
  {
   "cell_type": "code",
   "execution_count": null,
   "id": "7aa72cbc",
   "metadata": {},
   "outputs": [],
   "source": [
    "#Histogram plot of yearly\n",
    "result.plot(x=\"Date\", y=[ \"Gold Price\", \"Oil Price\"], kind=\"bar\", figsize=(10, 10))\n",
    "mp.show()"
   ]
  }
 ],
 "metadata": {
  "kernelspec": {
   "display_name": "Python 3 (ipykernel)",
   "language": "python",
   "name": "python3"
  },
  "language_info": {
   "codemirror_mode": {
    "name": "ipython",
    "version": 3
   },
   "file_extension": ".py",
   "mimetype": "text/x-python",
   "name": "python",
   "nbconvert_exporter": "python",
   "pygments_lexer": "ipython3",
   "version": "3.9.12"
  }
 },
 "nbformat": 4,
 "nbformat_minor": 5
}
